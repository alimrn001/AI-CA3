{
 "cells": [
  {
   "cell_type": "markdown",
   "id": "09c98b17",
   "metadata": {},
   "source": [
    "<p style=\"text-align: center; font-size: 35px\">به نام خدا</p>\n",
    "<p style=\"text-align: center; font-size: 25px\">هوش مصنوعی</p>\n",
    "<p style=\"text-align: center; font-size: 25px\">تمرین کامپیوتری شماره 3</p>\n",
    "<p style=\"text-align: center; font-size: 25px\">علی مهرانی</p>\n",
    "<p style=\"text-align: center; font-size: 25px\">شماره دانشجویی : 810198542</p>"
   ]
  },
  {
   "cell_type": "code",
   "execution_count": 5,
   "id": "72ff8e42",
   "metadata": {},
   "outputs": [],
   "source": [
    "import numpy as np\n",
    "import matplotlib as mtp\n",
    "import pickle\n",
    "import pandas\n",
    "import time"
   ]
  },
  {
   "cell_type": "markdown",
   "id": "c32d3515",
   "metadata": {},
   "source": [
    "# Phase 1 - Data analysis"
   ]
  },
  {
   "cell_type": "code",
   "execution_count": null,
   "id": "5ab71902",
   "metadata": {},
   "outputs": [],
   "source": [
    "pkl_data_file = open('dataset/data.pkl', 'rb')\n",
    "data = pickle.load(pkl_data_file)\n",
    "print(data)"
   ]
  },
  {
   "cell_type": "code",
   "execution_count": null,
   "id": "115c6af6",
   "metadata": {},
   "outputs": [],
   "source": []
  }
 ],
 "metadata": {
  "kernelspec": {
   "display_name": "Python 3 (ipykernel)",
   "language": "python",
   "name": "python3"
  },
  "language_info": {
   "codemirror_mode": {
    "name": "ipython",
    "version": 3
   },
   "file_extension": ".py",
   "mimetype": "text/x-python",
   "name": "python",
   "nbconvert_exporter": "python",
   "pygments_lexer": "ipython3",
   "version": "3.8.6"
  }
 },
 "nbformat": 4,
 "nbformat_minor": 5
}
