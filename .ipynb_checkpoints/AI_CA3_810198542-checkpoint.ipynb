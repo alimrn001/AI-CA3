{
 "cells": [
  {
   "cell_type": "markdown",
   "id": "09c98b17",
   "metadata": {},
   "source": [
    "<p style=\"text-align: center; font-size: 35px\">به نام خدا</p>\n",
    "<p style=\"text-align: center; font-size: 25px\">هوش مصنوعی</p>\n",
    "<p style=\"text-align: center; font-size: 25px\">تمرین کامپیوتری شماره 3</p>\n",
    "<p style=\"text-align: center; font-size: 25px\">علی مهرانی</p>\n",
    "<p style=\"text-align: center; font-size: 25px\">شماره دانشجویی : 810198542</p>"
   ]
  },
  {
   "cell_type": "code",
   "execution_count": 29,
   "id": "72ff8e42",
   "metadata": {},
   "outputs": [],
   "source": [
    "import numpy as np\n",
    "import matplotlib.pyplot as plt\n",
    "import pickle\n",
    "import pandas\n",
    "import time\n",
    "from sklearn.model_selection import train_test_split\n",
    "import cv2\n",
    "TESTSPLITRATIO = 0.3"
   ]
  },
  {
   "cell_type": "markdown",
   "id": "c32d3515",
   "metadata": {},
   "source": [
    "# Phase 1 - Data analysis"
   ]
  },
  {
   "cell_type": "code",
   "execution_count": 3,
   "id": "5ab71902",
   "metadata": {},
   "outputs": [
    {
     "name": "stdout",
     "output_type": "stream",
     "text": [
      "6000\n",
      "6000\n"
     ]
    }
   ],
   "source": [
    "pkl_data_file = open('dataset/data.pkl', 'rb')\n",
    "data = pickle.load(pkl_data_file)\n",
    "print(len(data))\n",
    "\n",
    "pkl_label_file = open('dataset/label.pkl', 'rb')\n",
    "label = pickle.load(pkl_label_file)\n",
    "print(len(label))"
   ]
  },
  {
   "cell_type": "markdown",
   "id": "6ae6eca9",
   "metadata": {},
   "source": [
    "## train-test split"
   ]
  },
  {
   "cell_type": "markdown",
   "id": "7b246017",
   "metadata": {},
   "source": [
    "### q1\n",
    "In this section we use sklearn library to split data to train and test.   \n",
    "the split ratio is considered 0.3.   \n",
    "according to many sources a good ratio to split train-test data should be 0.8/0.2 or 0.7/0.3 or values close.      "
   ]
  },
  {
   "cell_type": "code",
   "execution_count": 61,
   "id": "6a278f02",
   "metadata": {},
   "outputs": [],
   "source": [
    "label_train, label_test, data_train, data_test = train_test_split(label, data, test_size=TESTSPLITRATIO)"
   ]
  },
  {
   "cell_type": "markdown",
   "id": "11cd3e17",
   "metadata": {},
   "source": [
    "### q2"
   ]
  },
  {
   "cell_type": "code",
   "execution_count": null,
   "id": "f3732ab2",
   "metadata": {},
   "outputs": [],
   "source": []
  },
  {
   "cell_type": "markdown",
   "id": "a3da299f",
   "metadata": {},
   "source": [
    "### q3\n",
    "In this section we use cv2 package to resize image.  \n",
    "Then we change all non-0 values to 1 in the newly resized picture.   \n",
    "The reason we resize pictures is that we can check and compare pixel values with train data directly in naive bayes without having to check image size and scaling.     "
   ]
  },
  {
   "cell_type": "code",
   "execution_count": 62,
   "id": "7f902592",
   "metadata": {},
   "outputs": [
    {
     "name": "stdout",
     "output_type": "stream",
     "text": [
      "9\n",
      "[[0 0 0 0 1 1 1 1 1 1 1 1 1 1 0 0 0 0 0 0]\n",
      " [0 0 1 1 1 1 1 1 1 1 1 1 1 1 1 1 0 0 0 0]\n",
      " [0 1 1 1 1 1 1 1 1 1 1 1 1 1 1 1 0 0 0 0]\n",
      " [1 1 1 1 1 1 1 1 0 0 0 1 1 1 1 1 1 1 0 0]\n",
      " [1 1 1 1 1 1 1 0 0 0 0 0 1 1 1 1 1 1 0 0]\n",
      " [1 1 1 1 1 1 0 0 0 0 0 0 1 1 1 1 1 1 1 0]\n",
      " [1 1 1 1 1 1 1 0 0 0 0 0 1 1 1 1 1 1 1 0]\n",
      " [1 1 1 1 1 1 1 1 1 1 1 1 1 1 1 1 1 1 1 0]\n",
      " [0 1 1 1 1 1 1 1 1 1 1 1 1 1 1 1 1 1 1 0]\n",
      " [0 0 0 1 1 1 1 1 1 1 1 1 1 1 1 1 1 1 1 0]\n",
      " [0 0 0 0 1 1 1 1 1 1 1 1 1 1 1 1 1 1 1 0]\n",
      " [0 0 0 0 0 0 0 0 0 0 0 0 0 0 1 1 1 1 1 0]\n",
      " [0 0 0 0 0 0 0 0 0 0 0 0 0 0 1 1 1 1 1 0]\n",
      " [0 0 0 0 0 0 0 0 0 0 0 0 0 0 1 1 1 1 1 0]\n",
      " [0 0 0 0 0 0 0 0 0 0 0 0 0 0 1 1 1 1 1 1]\n",
      " [0 0 0 0 0 0 0 0 0 0 0 0 0 0 1 1 1 1 1 1]\n",
      " [0 0 0 0 0 0 0 0 0 0 0 0 0 0 1 1 1 1 1 1]\n",
      " [0 0 0 0 0 0 0 0 0 0 0 0 0 0 0 1 1 1 1 1]\n",
      " [0 0 0 0 0 0 0 0 0 0 0 0 0 0 0 1 1 1 1 1]\n",
      " [0 0 0 0 0 0 0 0 0 0 0 0 0 0 0 0 1 1 1 1]]\n",
      "4\n",
      "[[0 0 0 0 0 0 0 0 0 1 1 1 1 1 1 1 1 1 1 0]\n",
      " [1 1 1 1 1 0 0 0 1 1 1 1 1 1 1 1 1 1 1 1]\n",
      " [1 1 1 1 1 0 0 1 1 1 1 1 1 1 1 1 1 1 1 0]\n",
      " [1 1 1 1 1 1 1 1 1 1 1 1 0 0 0 0 0 0 0 0]\n",
      " [0 1 1 1 1 1 1 1 1 1 1 1 1 1 1 0 0 0 0 0]\n",
      " [0 0 1 1 1 1 1 1 1 1 1 1 1 1 1 1 1 1 1 0]\n",
      " [0 0 1 1 1 1 1 1 1 1 1 1 1 1 1 1 1 1 1 1]\n",
      " [0 0 0 1 1 1 1 1 1 0 0 1 1 1 1 1 1 1 1 1]\n",
      " [0 0 0 0 1 1 1 1 1 1 0 0 0 0 0 0 0 0 0 0]\n",
      " [0 0 0 0 0 1 1 1 1 1 1 0 0 0 0 0 0 0 0 0]\n",
      " [0 0 0 0 0 1 1 1 1 1 1 0 0 0 0 0 0 0 0 0]\n",
      " [0 0 0 0 0 0 1 1 1 1 1 1 0 0 0 0 0 0 0 0]\n",
      " [0 0 0 0 0 0 0 1 1 1 1 1 0 0 0 0 0 0 0 0]\n",
      " [0 0 0 0 0 0 0 1 1 1 1 1 0 0 0 0 0 0 0 0]\n",
      " [0 0 0 0 0 0 0 1 1 1 1 1 1 0 0 0 0 0 0 0]\n",
      " [0 0 0 0 0 0 0 0 1 1 1 1 1 0 0 0 0 0 0 0]\n",
      " [0 0 0 0 0 0 0 0 1 1 1 1 0 0 0 0 0 0 0 0]\n",
      " [0 0 0 0 0 0 0 0 1 1 1 1 0 0 0 0 0 0 0 0]\n",
      " [0 0 0 0 0 0 0 1 1 1 1 1 0 0 0 0 0 0 0 0]\n",
      " [0 0 0 0 0 0 0 1 1 1 1 0 0 0 0 0 0 0 0 0]]\n"
     ]
    }
   ],
   "source": [
    "data_train_resized = []\n",
    "data_test_resized = []\n",
    "\n",
    "for i in data_train :\n",
    "    row = cv2.resize(i, (20,20))\n",
    "    row[row>0]=1 #comment this line to avoid changing non-0 valus to 1\n",
    "    data_train_resized.append(row)\n",
    "    \n",
    "for i in data_test :\n",
    "    row = cv2.resize(i, (20,20))\n",
    "    row[row>0]=1 #comment this line to avoid changing non-0 valus to 1\n",
    "    data_test_resized.append(row)\n",
    "\n",
    "print(label_train[150])\n",
    "print(data_train_resized[150])\n",
    "print(label_test[150])\n",
    "print(data_test_resized[150])"
   ]
  },
  {
   "cell_type": "markdown",
   "id": "9037e801",
   "metadata": {},
   "source": []
  },
  {
   "cell_type": "code",
   "execution_count": null,
   "id": "d453cff4",
   "metadata": {},
   "outputs": [],
   "source": []
  },
  {
   "cell_type": "markdown",
   "id": "e87b4985",
   "metadata": {},
   "source": [
    "### q4"
   ]
  },
  {
   "cell_type": "code",
   "execution_count": null,
   "id": "e83d5fd0",
   "metadata": {},
   "outputs": [],
   "source": []
  }
 ],
 "metadata": {
  "kernelspec": {
   "display_name": "Python 3 (ipykernel)",
   "language": "python",
   "name": "python3"
  },
  "language_info": {
   "codemirror_mode": {
    "name": "ipython",
    "version": 3
   },
   "file_extension": ".py",
   "mimetype": "text/x-python",
   "name": "python",
   "nbconvert_exporter": "python",
   "pygments_lexer": "ipython3",
   "version": "3.8.6"
  }
 },
 "nbformat": 4,
 "nbformat_minor": 5
}
