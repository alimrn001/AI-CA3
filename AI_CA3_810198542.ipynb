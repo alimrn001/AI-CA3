{
 "cells": [
  {
   "cell_type": "markdown",
   "id": "89868f69",
   "metadata": {},
   "source": [
    "<p style=\"text-align: center; font-size: 35px\">به نام خدا</p>\n",
    "<p style=\"text-align: center; font-size: 25px\">هوش مصنوعی</p>\n",
    "<p style=\"text-align: center; font-size: 25px\">تمرین کامپیوتری شماره 3</p>\n",
    "<p style=\"text-align: center; font-size: 25px\">علی مهرانی</p>\n",
    "<p style=\"text-align: center; font-size: 25px\">شماره دانشجویی : 810198542</p>"
   ]
  },
  {
   "cell_type": "raw",
   "id": "982329aa",
   "metadata": {},
   "source": []
  }
 ],
 "metadata": {
  "kernelspec": {
   "display_name": "Python 3 (ipykernel)",
   "language": "python",
   "name": "python3"
  },
  "language_info": {
   "codemirror_mode": {
    "name": "ipython",
    "version": 3
   },
   "file_extension": ".py",
   "mimetype": "text/x-python",
   "name": "python",
   "nbconvert_exporter": "python",
   "pygments_lexer": "ipython3",
   "version": "3.8.6"
  }
 },
 "nbformat": 4,
 "nbformat_minor": 5
}
